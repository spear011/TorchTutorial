{
 "cells": [
  {
   "cell_type": "code",
   "execution_count": null,
   "metadata": {},
   "outputs": [],
   "source": [
    "def convolution(input_size, kernel_size, padding, stride):\n",
    "    output = ((input_size - kernel_size + (2 * padding))/stride) + 1\n",
    "    return output"
   ]
  },
  {
   "cell_type": "code",
   "execution_count": null,
   "metadata": {},
   "outputs": [],
   "source": [
    "def maxpooling(input_size, kernel_size, stride):\n",
    "    output = ((input_size - kernel_size) / stride) + 1\n",
    "    return output"
   ]
  }
 ],
 "metadata": {
  "kernelspec": {
   "display_name": "book_01",
   "language": "python",
   "name": "python3"
  },
  "language_info": {
   "name": "python",
   "version": "3.9.0"
  },
  "orig_nbformat": 4,
  "vscode": {
   "interpreter": {
    "hash": "f014ff7623cda023a501fc8dafa596f5ee4e09afe2ab86a650367bc764f18556"
   }
  }
 },
 "nbformat": 4,
 "nbformat_minor": 2
}
